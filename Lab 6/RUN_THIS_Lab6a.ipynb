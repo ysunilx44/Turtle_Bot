{
 "cells": [
  {
   "cell_type": "code",
   "execution_count": 21,
   "metadata": {},
   "outputs": [],
   "source": [
    "import numpy as np\n",
    "from sklearn.metrics import classification_report, confusion_matrix, ConfusionMatrixDisplay\n",
    "import csv\n",
    "import os\n",
    "import cv2\n",
    "import matplotlib.pyplot as plt\n",
    "from skimage.feature import hog\n",
    "from skimage import color\n",
    "from joblib import load\n"
   ]
  },
  {
   "cell_type": "markdown",
   "metadata": {},
   "source": [
    "In the following code cell, change imageDirectory to the correct path, and set the correct imgetype variable. This cell loads the dataset and splits it into X, the paths to the image, and y, the labels associated with each image. "
   ]
  },
  {
   "cell_type": "code",
   "execution_count": 22,
   "metadata": {},
   "outputs": [],
   "source": [
    "d1 = os.path.join(os.getcwd(), '2022Fheldout', '2022Fheldout')\n",
    "d2 = os.path.join(os.getcwd(), '2022Fimgs', '2022Fimgs')\n",
    "d3 = os.path.join(os.getcwd(), '2023Fimgs', '2023Fimgs')\n",
    "d4 = os.path.join(os.getcwd(), '2023Simgs', 'S2023_imgs')\n",
    "d5 = os.path.join(os.getcwd(), '2024Simgs', '2024Simgs')\n",
    "\n",
    "### CHANGE TO CORRECT PATH\n",
    "imageDirectory = d2\n",
    "### CHANGE TO \".jpg\" IF NEEDED\n",
    "imgtype = \".png\" \n",
    "with open(os.path.join(imageDirectory, 'labels.txt'), 'r') as f:\n",
    "    reader = csv.reader(f)\n",
    "    # lines = [[imageDirectory +\"\\\\\"+ row[0] + imgtype] + row[1:] for row in list(reader)]\n",
    "    lines = [[os.path.join(imageDirectory, row[0]) + imgtype] + row[1:] for row in list(reader)]\n",
    "\n",
    "X = [line[0] for line in lines]  # Image paths\n",
    "y = [line[1] for line in lines]  # Labels"
   ]
  },
  {
   "cell_type": "markdown",
   "metadata": {},
   "source": [
    "After the following cell, check if the printed path is correct."
   ]
  },
  {
   "cell_type": "code",
   "execution_count": 26,
   "metadata": {},
   "outputs": [
    {
     "name": "stdout",
     "output_type": "stream",
     "text": [
      "Check if the following path is correct\n",
      "c:\\Users\\yadum\\GT\\Spring 2024\\ME 7785\\Lab 6\\2022Fimgs\\2022Fimgs\\1.png\n"
     ]
    }
   ],
   "source": [
    "def preprocess_image(image_path):\n",
    "    # Load the image\n",
    "    img = cv2.imread(image_path)\n",
    "    img = cv2.cvtColor(img, cv2.COLOR_BGR2RGB)\n",
    "    gray_image = color.rgb2gray(img)\n",
    "    img = cv2.resize(img, (64, 64))\n",
    "    hsv_image = cv2.cvtColor(img, cv2.COLOR_RGB2HSV)\n",
    "    gray_image = cv2.resize(gray_image, (64, 64))\n",
    "    x, y, w, h = 12, 12, 40, 40\n",
    "    hog_features = hog(gray_image, orientations=8, pixels_per_cell=(8, 8),\n",
    "                       cells_per_block=(2, 2), block_norm='L2', feature_vector=True)\n",
    "    hsv_image = cv2.GaussianBlur(hsv_image, (5, 5), 0)\n",
    "    hsv_image = hsv_image.flatten()  \n",
    "    hsv_image = hsv_image / 255.0  # norm \n",
    "    features = np.hstack([hog_features, hsv_image]) \n",
    "    return features\n",
    "print(\"Check if the following path is correct\")\n",
    "print(X[0])"
   ]
  },
  {
   "cell_type": "markdown",
   "metadata": {},
   "source": [
    "Run the following cell to make predictions on the dataset and get the classification report."
   ]
  },
  {
   "cell_type": "code",
   "execution_count": 24,
   "metadata": {},
   "outputs": [
    {
     "name": "stdout",
     "output_type": "stream",
     "text": [
      "              precision    recall  f1-score   support\n",
      "\n",
      "           0       1.00      0.94      0.97        18\n",
      "           1       0.98      0.98      0.98        42\n",
      "           2       0.98      1.00      0.99        42\n",
      "           3       1.00      1.00      1.00         9\n",
      "           4       1.00      1.00      1.00         9\n",
      "           5       1.00      1.00      1.00         9\n",
      "\n",
      "    accuracy                           0.98       129\n",
      "   macro avg       0.99      0.99      0.99       129\n",
      "weighted avg       0.98      0.98      0.98       129\n",
      "\n"
     ]
    }
   ],
   "source": [
    "X_preprocessed = np.array([preprocess_image(x) for x in X])\n",
    "y = [int(label) for label in y]\n",
    "\n",
    "clf = load('classifier_model.joblib')\n",
    "y_pred = clf.predict(X_preprocessed)\n",
    "\n",
    "print(classification_report(y, y_pred))"
   ]
  },
  {
   "cell_type": "markdown",
   "metadata": {},
   "source": [
    "Run the following cell to get the confusion matrix."
   ]
  },
  {
   "cell_type": "code",
   "execution_count": 25,
   "metadata": {},
   "outputs": [
    {
     "data": {
      "image/png": "[encoded data removed]",
      "text/plain": [
       "<Figure size 640x480 with 2 Axes>"
      ]
     },
     "metadata": {},
     "output_type": "display_data"
    }
   ],
   "source": [
    "cm = confusion_matrix(y, y_pred)\n",
    "disp = ConfusionMatrixDisplay(confusion_matrix=cm, display_labels=clf.classes_)\n",
    "disp.plot()\n",
    "plt.show()"
   ]
  }
 ],
 "metadata": {
  "kernelspec": {
   "display_name": "Python 3",
   "language": "python",
   "name": "python3"
  },
  "language_info": {
   "codemirror_mode": {
    "name": "ipython",
    "version": 3
   },
   "file_extension": ".py",
   "mimetype": "text/x-python",
   "name": "python",
   "nbconvert_exporter": "python",
   "pygments_lexer": "ipython3",
   "version": "3.9.13"
  }
 },
 "nbformat": 4,
 "nbformat_minor": 2
}
