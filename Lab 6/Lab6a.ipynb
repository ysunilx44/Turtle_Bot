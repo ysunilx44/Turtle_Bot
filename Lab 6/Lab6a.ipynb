{
 "cells": [
  {
   "cell_type": "code",
   "execution_count": 21,
   "metadata": {},
   "outputs": [],
   "source": [
    "import numpy as np\n",
    "from sklearn.model_selection import train_test_split\n",
    "from sklearn import svm\n",
    "from sklearn.tree import DecisionTreeClassifier\n",
    "from sklearn.metrics import classification_report, confusion_matrix, ConfusionMatrixDisplay\n",
    "import csv\n",
    "import random\n",
    "import math\n",
    "import os\n",
    "import cv2\n",
    "import matplotlib.pyplot as plt\n",
    "import seaborn as sns\n",
    "from xgboost import XGBClassifier\n",
    "from skimage.feature import hog\n",
    "from skimage import color\n",
    "from sklearn.ensemble import AdaBoostClassifier, RandomForestClassifier\n",
    "from sklearn.naive_bayes import GaussianNB\n",
    "from sklearn.neural_network import MLPClassifier\n",
    "from sklearn.neighbors import KNeighborsClassifier\n",
    "\n"
   ]
  },
  {
   "cell_type": "code",
   "execution_count": 22,
   "metadata": {},
   "outputs": [
    {
     "name": "stdout",
     "output_type": "stream",
     "text": [
      "Number of training samples: 610\n",
      "Number of testing samples: 153\n"
     ]
    }
   ],
   "source": [
    "d1 = os.path.join(os.getcwd(), '2022Fheldout', '2022Fheldout')\n",
    "d2 = os.path.join(os.getcwd(), '2022Fimgs', '2022Fimgs')\n",
    "d3 = os.path.join(os.getcwd(), '2023Fimgs', '2023Fimgs')\n",
    "d4 = os.path.join(os.getcwd(), '2023Simgs', 'S2023_imgs')\n",
    "d5 = os.path.join(os.getcwd(), '2024Simgs', '2024Simgs')\n",
    "\n",
    "imageDirectories = [d1, d2, d3, d4, d5]\n",
    "all_lines = []\n",
    "count = 0\n",
    "# Iterate over each directory\n",
    "for imageDirectory in imageDirectories:\n",
    "    if count == 2:\n",
    "        imgtype = \".jpg\"\n",
    "    else:\n",
    "        imgtype = \".png\"\n",
    "    with open(os.path.join(imageDirectory, 'labels.txt'), 'r') as f:\n",
    "        reader = csv.reader(f)\n",
    "        lines = [[imageDirectory +\"\\\\\"+ row[0] + imgtype] + row[1:] for row in list(reader)]\n",
    "        all_lines.extend(lines)\n",
    "    count += 1\n",
    "\n",
    "X = [line[0] for line in all_lines]  # Image paths\n",
    "y = [line[1] for line in all_lines]  # Labels\n",
    "\n",
    "X_train, X_test, y_train, y_test = train_test_split(X, y, test_size=0.2, random_state=44)\n",
    "\n",
    "print('Number of training samples:', len(X_train))\n",
    "print('Number of testing samples:', len(X_test))"
   ]
  },
  {
   "cell_type": "code",
   "execution_count": 23,
   "metadata": {},
   "outputs": [
    {
     "name": "stdout",
     "output_type": "stream",
     "text": [
      "13856\n"
     ]
    }
   ],
   "source": [
    "def preprocess_image(image_path):\n",
    "    # Load the image\n",
    "    img = cv2.imread(image_path)\n",
    "    img = cv2.cvtColor(img, cv2.COLOR_BGR2RGB)\n",
    "    gray_image = color.rgb2gray(img)\n",
    "    img = cv2.resize(img, (64, 64))\n",
    "    hsv_image = cv2.cvtColor(img, cv2.COLOR_RGB2HSV)\n",
    "    gray_image = cv2.resize(gray_image, (64, 64))\n",
    "    x, y, w, h = 12, 12, 40, 40\n",
    "    hog_features = hog(gray_image, orientations=8, pixels_per_cell=(8, 8),\n",
    "                       cells_per_block=(2, 2), block_norm='L2', feature_vector=True)\n",
    "    hsv_image = cv2.GaussianBlur(hsv_image, (5, 5), 0)\n",
    "    hsv_image = hsv_image.flatten()  \n",
    "    hsv_image = hsv_image / 255.0  # norm \n",
    "    features = np.hstack([hog_features, hsv_image]) \n",
    "    return features\n",
    "print(len(preprocess_image(X_train[0])))"
   ]
  },
  {
   "cell_type": "code",
   "execution_count": 27,
   "metadata": {},
   "outputs": [
    {
     "name": "stdout",
     "output_type": "stream",
     "text": [
      "Unique labels in training set: {0, 1, 2, 3, 4, 5}\n",
      "Unique labels in test set: {0, 1, 2, 3, 4, 5}\n",
      "              precision    recall  f1-score   support\n",
      "\n",
      "           0       0.95      0.95      0.95        20\n",
      "           1       0.95      0.95      0.95        40\n",
      "           2       0.98      0.98      0.98        44\n",
      "           3       0.94      1.00      0.97        16\n",
      "           4       0.94      1.00      0.97        16\n",
      "           5       1.00      0.88      0.94        17\n",
      "\n",
      "    accuracy                           0.96       153\n",
      "   macro avg       0.96      0.96      0.96       153\n",
      "weighted avg       0.96      0.96      0.96       153\n",
      "\n"
     ]
    }
   ],
   "source": [
    "X_train_preprocessed = np.array([preprocess_image(x) for x in X_train])\n",
    "X_test_preprocessed = np.array([preprocess_image(x) for x in X_test])\n",
    "y_train = [int(label) for label in y_train]\n",
    "y_test = [int(label) for label in y_test]\n",
    "print(\"Unique labels in training set:\", set(y_train))\n",
    "print(\"Unique labels in test set:\", set(y_test))\n",
    "clf = svm.SVC(gamma='scale', kernel='linear')\n",
    "# clf = DecisionTreeClassifier()\n",
    "#clf = XGBClassifier()\n",
    "# clf = RandomForestClassifier(\n",
    "#         max_depth=5, n_estimators=10, max_features=1, random_state=42\n",
    "#     )\n",
    "clf = MLPClassifier(alpha=0.01, max_iter=1000, random_state=42)\n",
    "# clf = GaussianNB()\n",
    "# clf = KNeighborsClassifier(5)\n",
    "# clf = AdaBoostClassifier(algorithm=\"SAMME\", random_state=42)\n",
    "clf.fit(X_train_preprocessed, y_train)\n",
    "\n",
    "y_pred = clf.predict(X_test_preprocessed)\n",
    "\n",
    "print(classification_report(y_test, y_pred))"
   ]
  },
  {
   "cell_type": "code",
   "execution_count": 28,
   "metadata": {},
   "outputs": [
    {
     "data": {
      "image/png": "[encoded data removed]",
      "text/plain": [
       "<Figure size 640x480 with 2 Axes>"
      ]
     },
     "metadata": {},
     "output_type": "display_data"
    }
   ],
   "source": [
    "cm = confusion_matrix(y_test, y_pred)\n",
    "disp = ConfusionMatrixDisplay(confusion_matrix=cm, display_labels=clf.classes_)\n",
    "disp.plot()\n",
    "plt.show()"
   ]
  },
  {
   "cell_type": "code",
   "execution_count": 30,
   "metadata": {},
   "outputs": [
    {
     "data": {
      "text/plain": [
       "['classifier_model.joblib']"
      ]
     },
     "execution_count": 30,
     "metadata": {},
     "output_type": "execute_result"
    }
   ],
   "source": [
    "from joblib import dump, load\n",
    "\n",
    "# Save the model\n",
    "dump(clf, 'classifier_model.joblib')"
   ]
  }
 ],
 "metadata": {
  "kernelspec": {
   "display_name": "Python 3",
   "language": "python",
   "name": "python3"
  },
  "language_info": {
   "codemirror_mode": {
    "name": "ipython",
    "version": 3
   },
   "file_extension": ".py",
   "mimetype": "text/x-python",
   "name": "python",
   "nbconvert_exporter": "python",
   "pygments_lexer": "ipython3",
   "version": "3.9.13"
  }
 },
 "nbformat": 4,
 "nbformat_minor": 2
}
